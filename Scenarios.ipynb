{
 "cells": [
  {
   "cell_type": "code",
   "execution_count": 7,
   "metadata": {},
   "outputs": [
    {
     "ename": "NameError",
     "evalue": "name 'null' is not defined",
     "output_type": "error",
     "traceback": [
      "\u001b[0;31m---------------------------------------------------------------------------\u001b[0m",
      "\u001b[0;31mNameError\u001b[0m                                 Traceback (most recent call last)",
      "\u001b[0;32m<ipython-input-7-9905f75fbe97>\u001b[0m in \u001b[0;36m<module>\u001b[0;34m\u001b[0m\n\u001b[1;32m      1\u001b[0m \u001b[0;32mimport\u001b[0m \u001b[0mmatplotlib\u001b[0m\u001b[0;34m.\u001b[0m\u001b[0mpyplot\u001b[0m \u001b[0;32mas\u001b[0m \u001b[0mplt\u001b[0m\u001b[0;34m\u001b[0m\u001b[0;34m\u001b[0m\u001b[0m\n\u001b[1;32m      2\u001b[0m \u001b[0;32mimport\u001b[0m \u001b[0mpandas\u001b[0m \u001b[0;32mas\u001b[0m \u001b[0mpd\u001b[0m\u001b[0;34m\u001b[0m\u001b[0;34m\u001b[0m\u001b[0m\n\u001b[0;32m----> 3\u001b[0;31m \u001b[0;32mfrom\u001b[0m \u001b[0mmontecarlo\u001b[0m \u001b[0;32mimport\u001b[0m \u001b[0mDie\u001b[0m\u001b[0;34m,\u001b[0m \u001b[0mClass\u001b[0m\u001b[0;34m,\u001b[0m \u001b[0mAnalyzer\u001b[0m\u001b[0;34m\u001b[0m\u001b[0;34m\u001b[0m\u001b[0m\n\u001b[0m",
      "\u001b[0;32m/sfs/qumulo/qhome/ymb7fb/Documents/MSDS/DS5100/DS5100-2023-01-ymb7fb/finalproject2/montecarlo/__init__.py\u001b[0m in \u001b[0;36m<module>\u001b[0;34m\u001b[0m\n\u001b[1;32m      3\u001b[0m   {\n\u001b[1;32m      4\u001b[0m    \u001b[0;34m\"cell_type\"\u001b[0m\u001b[0;34m:\u001b[0m \u001b[0;34m\"code\"\u001b[0m\u001b[0;34m,\u001b[0m\u001b[0;34m\u001b[0m\u001b[0;34m\u001b[0m\u001b[0m\n\u001b[0;32m----> 5\u001b[0;31m    \u001b[0;34m\"execution_count\"\u001b[0m\u001b[0;34m:\u001b[0m \u001b[0mnull\u001b[0m\u001b[0;34m,\u001b[0m\u001b[0;34m\u001b[0m\u001b[0;34m\u001b[0m\u001b[0m\n\u001b[0m\u001b[1;32m      6\u001b[0m    \u001b[0;34m\"metadata\"\u001b[0m\u001b[0;34m:\u001b[0m \u001b[0;34m{\u001b[0m\u001b[0;34m}\u001b[0m\u001b[0;34m,\u001b[0m\u001b[0;34m\u001b[0m\u001b[0;34m\u001b[0m\u001b[0m\n\u001b[1;32m      7\u001b[0m    \u001b[0;34m\"outputs\"\u001b[0m\u001b[0;34m:\u001b[0m \u001b[0;34m[\u001b[0m\u001b[0;34m]\u001b[0m\u001b[0;34m,\u001b[0m\u001b[0;34m\u001b[0m\u001b[0;34m\u001b[0m\u001b[0m\n",
      "\u001b[0;31mNameError\u001b[0m: name 'null' is not defined"
     ]
    }
   ],
   "source": [
    "import matplotlib.pyplot as plt\n",
    "import pandas as pd\n",
    "from montecarlo import Die, Class, Analyzer"
   ]
  },
  {
   "cell_type": "markdown",
   "metadata": {},
   "source": [
    "## Scenario #1 Two-headed coin"
   ]
  },
  {
   "cell_type": "code",
   "execution_count": 2,
   "metadata": {},
   "outputs": [
    {
     "ename": "NameError",
     "evalue": "name 'Die' is not defined",
     "output_type": "error",
     "traceback": [
      "\u001b[0;31m---------------------------------------------------------------------------\u001b[0m",
      "\u001b[0;31mNameError\u001b[0m                                 Traceback (most recent call last)",
      "\u001b[0;32m<ipython-input-2-fc0d9a59f0d4>\u001b[0m in \u001b[0;36m<module>\u001b[0;34m\u001b[0m\n\u001b[1;32m      1\u001b[0m \u001b[0;31m# Create fair and unfair coins\u001b[0m\u001b[0;34m\u001b[0m\u001b[0;34m\u001b[0m\u001b[0;34m\u001b[0m\u001b[0m\n\u001b[0;32m----> 2\u001b[0;31m \u001b[0mfair_coin\u001b[0m \u001b[0;34m=\u001b[0m \u001b[0mDie\u001b[0m\u001b[0;34m(\u001b[0m\u001b[0;34m[\u001b[0m\u001b[0;34m\"H\"\u001b[0m\u001b[0;34m,\u001b[0m \u001b[0;34m\"T\"\u001b[0m\u001b[0;34m]\u001b[0m\u001b[0;34m)\u001b[0m\u001b[0;34m\u001b[0m\u001b[0;34m\u001b[0m\u001b[0m\n\u001b[0m\u001b[1;32m      3\u001b[0m \u001b[0munfair_coin\u001b[0m \u001b[0;34m=\u001b[0m \u001b[0mDie\u001b[0m\u001b[0;34m(\u001b[0m\u001b[0;34m[\u001b[0m\u001b[0;34m\"H\"\u001b[0m\u001b[0;34m,\u001b[0m \u001b[0;34m\"T\"\u001b[0m\u001b[0;34m]\u001b[0m\u001b[0;34m,\u001b[0m \u001b[0;34m[\u001b[0m\u001b[0;36m5\u001b[0m\u001b[0;34m,\u001b[0m \u001b[0;36m1\u001b[0m\u001b[0;34m]\u001b[0m\u001b[0;34m)\u001b[0m\u001b[0;34m\u001b[0m\u001b[0;34m\u001b[0m\u001b[0m\n\u001b[1;32m      4\u001b[0m \u001b[0;34m\u001b[0m\u001b[0m\n\u001b[1;32m      5\u001b[0m \u001b[0;31m# Create game objects\u001b[0m\u001b[0;34m\u001b[0m\u001b[0;34m\u001b[0m\u001b[0;34m\u001b[0m\u001b[0m\n",
      "\u001b[0;31mNameError\u001b[0m: name 'Die' is not defined"
     ]
    }
   ],
   "source": [
    "# Create fair and unfair coins\n",
    "fair_coin = Die([\"H\", \"T\"])\n",
    "unfair_coin = Die([\"H\", \"T\"], [5, 1])\n",
    "\n",
    "# Create game objects\n",
    "game_fair = Game([fair_coin])\n",
    "game_unfair = Game([unfair_coin, unfair_coin, fair_coin])\n",
    "\n",
    "# Play games\n",
    "game_fair.play(1000)\n",
    "game_unfair.play(1000)\n",
    "\n",
    "# Analyze games\n",
    "analyzer_fair = Analyzer(game_fair)\n",
    "analyzer_unfair = Analyzer(game_unfair)\n",
    "\n",
    "# Compute relative frequencies\n",
    "relative_freq_fair = analyzer_fair.jackpot_results.sum() / len(game_fair.results)\n",
    "relative_freq_unfair = analyzer_unfair.jackpot_results.sum() / len(game_unfair.results)\n",
    "\n",
    "# Create a bar chart\n",
    "data = {\"Fair Coin\": relative_freq_fair, \"Unfair Coins\": relative_freq_unfair}\n",
    "df = pd.DataFrame.from_dict(data, orient=\"index\", columns=[\"Relative Frequency\"])\n",
    "ax = df.plot(kind=\"bar\")\n",
    "ax.set_ylabel(\"Relative Frequency\")\n",
    "plt.show()"
   ]
  },
  {
   "cell_type": "markdown",
   "metadata": {},
   "source": [
    "## Scenario #2: 6-sided die"
   ]
  },
  {
   "cell_type": "code",
   "execution_count": 5,
   "metadata": {},
   "outputs": [
    {
     "ename": "NameError",
     "evalue": "name 'Die' is not defined",
     "output_type": "error",
     "traceback": [
      "\u001b[0;31m---------------------------------------------------------------------------\u001b[0m",
      "\u001b[0;31mNameError\u001b[0m                                 Traceback (most recent call last)",
      "\u001b[0;32m<ipython-input-5-c6dfcfd3911f>\u001b[0m in \u001b[0;36m<module>\u001b[0;34m\u001b[0m\n\u001b[1;32m      1\u001b[0m \u001b[0;31m# Create fair and unfair dice\u001b[0m\u001b[0;34m\u001b[0m\u001b[0;34m\u001b[0m\u001b[0;34m\u001b[0m\u001b[0m\n\u001b[0;32m----> 2\u001b[0;31m \u001b[0mfair_die\u001b[0m \u001b[0;34m=\u001b[0m \u001b[0mDie\u001b[0m\u001b[0;34m(\u001b[0m\u001b[0;34m[\u001b[0m\u001b[0;36m1\u001b[0m\u001b[0;34m,\u001b[0m \u001b[0;36m2\u001b[0m\u001b[0;34m,\u001b[0m \u001b[0;36m3\u001b[0m\u001b[0;34m,\u001b[0m \u001b[0;36m4\u001b[0m\u001b[0;34m,\u001b[0m \u001b[0;36m5\u001b[0m\u001b[0;34m,\u001b[0m \u001b[0;36m6\u001b[0m\u001b[0;34m]\u001b[0m\u001b[0;34m)\u001b[0m\u001b[0;34m\u001b[0m\u001b[0;34m\u001b[0m\u001b[0m\n\u001b[0m\u001b[1;32m      3\u001b[0m \u001b[0munfair_die_type1\u001b[0m \u001b[0;34m=\u001b[0m \u001b[0mDie\u001b[0m\u001b[0;34m(\u001b[0m\u001b[0;34m[\u001b[0m\u001b[0;36m1\u001b[0m\u001b[0;34m,\u001b[0m \u001b[0;36m2\u001b[0m\u001b[0;34m,\u001b[0m \u001b[0;36m3\u001b[0m\u001b[0;34m,\u001b[0m \u001b[0;36m4\u001b[0m\u001b[0;34m,\u001b[0m \u001b[0;36m5\u001b[0m\u001b[0;34m,\u001b[0m \u001b[0;36m6\u001b[0m\u001b[0;34m]\u001b[0m\u001b[0;34m,\u001b[0m \u001b[0;34m[\u001b[0m\u001b[0;36m1\u001b[0m\u001b[0;34m,\u001b[0m \u001b[0;36m1\u001b[0m\u001b[0;34m,\u001b[0m \u001b[0;36m3\u001b[0m\u001b[0;34m,\u001b[0m \u001b[0;36m1\u001b[0m\u001b[0;34m,\u001b[0m \u001b[0;36m1\u001b[0m\u001b[0;34m,\u001b[0m \u001b[0;36m5\u001b[0m\u001b[0;34m]\u001b[0m\u001b[0;34m)\u001b[0m\u001b[0;34m\u001b[0m\u001b[0;34m\u001b[0m\u001b[0m\n\u001b[1;32m      4\u001b[0m \u001b[0munfair_die_type2\u001b[0m \u001b[0;34m=\u001b[0m \u001b[0mDie\u001b[0m\u001b[0;34m(\u001b[0m\u001b[0;34m[\u001b[0m\u001b[0;36m1\u001b[0m\u001b[0;34m,\u001b[0m \u001b[0;36m2\u001b[0m\u001b[0;34m,\u001b[0m \u001b[0;36m3\u001b[0m\u001b[0;34m,\u001b[0m \u001b[0;36m4\u001b[0m\u001b[0;34m,\u001b[0m \u001b[0;36m5\u001b[0m\u001b[0;34m,\u001b[0m \u001b[0;36m6\u001b[0m\u001b[0;34m]\u001b[0m\u001b[0;34m,\u001b[0m \u001b[0;34m[\u001b[0m\u001b[0;36m5\u001b[0m\u001b[0;34m,\u001b[0m \u001b[0;36m1\u001b[0m\u001b[0;34m,\u001b[0m \u001b[0;36m1\u001b[0m\u001b[0;34m,\u001b[0m \u001b[0;36m2\u001b[0m\u001b[0;34m,\u001b[0m \u001b[0;36m1\u001b[0m\u001b[0;34m,\u001b[0m \u001b[0;36m1\u001b[0m\u001b[0;34m]\u001b[0m\u001b[0;34m)\u001b[0m\u001b[0;34m\u001b[0m\u001b[0;34m\u001b[0m\u001b[0m\n\u001b[1;32m      5\u001b[0m \u001b[0;34m\u001b[0m\u001b[0m\n",
      "\u001b[0;31mNameError\u001b[0m: name 'Die' is not defined"
     ]
    }
   ],
   "source": [
    "# Create fair and unfair dice\n",
    "fair_die = Die([1, 2, 3, 4, 5, 6])\n",
    "unfair_die_type1 = Die([1, 2, 3, 4, 5, 6], [1, 1, 3, 1, 1, 5])\n",
    "unfair_die_type2 = Die([1, 2, 3, 4, 5, 6], [5, 1, 1, 2, 1, 1])\n",
    "\n",
    "# Create game objects\n",
    "game_fair_dice = Game([fair_die] * 5)\n",
    "game_unfair_dice = Game([unfair_die_type1, unfair_die_type1, unfair_die_type1, unfair_die_type1, unfair_die_type2])\n",
    "\n",
    "# Play games\n",
    "game_fair_dice.play(5000)\n",
    "game_unfair_dice.play(5000)\n",
    "\n",
    "# Analyze games\n",
    "analyzer_fair_dice = Analyzer(game_fair_dice)\n",
    "analyzer_unfair_dice = Analyzer(game_unfair_dice)\n",
    "\n",
    "# Compute relative frequencies\n",
    "relative_freq_fair_dice = analyzer_fair_dice.jackpot_results.sum() / len(game_fair_dice.results)\n",
    "relative_freq_unfair_dice = analyzer_unfair_dice.jackpot_results.sum() / len(game_unfair_dice.results)\n",
    "\n",
    "# Create bar charts for relative frequencies\n",
    "data = {\"Fair Dice\": relative_freq_fair_dice, \"Unfair Dice\": relative_freq_unfair_dice}\n",
    "df = pd.DataFrame.from_dict(data, orient=\"index\", columns=[\"Relative Frequency\"])\n",
    "ax = df.plot(kind=\"bar\")\n",
    "ax.set_ylabel(\"Relative Frequency\")\n",
    "plt.show()\n",
    "\n",
    "# Get and plot 10 most frequent combinations of faces\n",
    "most_common_combos_fair = analyzer_fair_dice.combo_results.nlargest(10, \"Combo Count\")\n",
    "most_common_combos_fair.plot(kind=\"bar\")\n",
    "plt.xlabel(\"Combination\")\n",
    "plt.ylabel(\"Frequency\")\n",
    "plt.title(\"10 Most Frequent Combinations of Faces (Fair Dice)\")\n",
    "plt.show()\n",
    "\n",
    "most_common_combos_unfair = analyzer_unfair_dice.combo_results.nlargest(10, \"Combo Count\")\n",
    "most_common_combos_unfair.plot(kind=\"bar\")\n",
    "plt.xlabel(\"Combination\")\n",
    "plt.ylabel(\"Frequency\")\n",
    "plt.title(\"10 Most Frequent Combinations of Faces (Unfair Dice)\")\n",
    "plt.show()"
   ]
  },
  {
   "cell_type": "markdown",
   "metadata": {},
   "source": [
    "## Scenario 3: Combo of letters to form words"
   ]
  },
  {
   "cell_type": "code",
   "execution_count": 4,
   "metadata": {},
   "outputs": [
    {
     "ename": "NameError",
     "evalue": "name 'Die' is not defined",
     "output_type": "error",
     "traceback": [
      "\u001b[0;31m---------------------------------------------------------------------------\u001b[0m",
      "\u001b[0;31mNameError\u001b[0m                                 Traceback (most recent call last)",
      "\u001b[0;32m<ipython-input-4-44a9fe8a6ba0>\u001b[0m in \u001b[0;36m<module>\u001b[0;34m\u001b[0m\n\u001b[1;32m     10\u001b[0m \u001b[0;34m\u001b[0m\u001b[0m\n\u001b[1;32m     11\u001b[0m \u001b[0;31m# Create a list of dice for letters\u001b[0m\u001b[0;34m\u001b[0m\u001b[0;34m\u001b[0m\u001b[0;34m\u001b[0m\u001b[0m\n\u001b[0;32m---> 12\u001b[0;31m \u001b[0mletter_dice\u001b[0m \u001b[0;34m=\u001b[0m \u001b[0;34m[\u001b[0m\u001b[0mDie\u001b[0m\u001b[0;34m(\u001b[0m\u001b[0;34m[\u001b[0m\u001b[0mletter\u001b[0m\u001b[0;34m]\u001b[0m\u001b[0;34m,\u001b[0m \u001b[0;34m[\u001b[0m\u001b[0mweight\u001b[0m\u001b[0;34m]\u001b[0m\u001b[0;34m)\u001b[0m \u001b[0;32mfor\u001b[0m \u001b[0mletter\u001b[0m\u001b[0;34m,\u001b[0m \u001b[0mweight\u001b[0m \u001b[0;32min\u001b[0m \u001b[0mletter_weights\u001b[0m\u001b[0;34m.\u001b[0m\u001b[0mitems\u001b[0m\u001b[0;34m(\u001b[0m\u001b[0;34m)\u001b[0m\u001b[0;34m]\u001b[0m\u001b[0;34m\u001b[0m\u001b[0;34m\u001b[0m\u001b[0m\n\u001b[0m\u001b[1;32m     13\u001b[0m \u001b[0;34m\u001b[0m\u001b[0m\n\u001b[1;32m     14\u001b[0m \u001b[0;31m# Create a game with 5 letter dice\u001b[0m\u001b[0;34m\u001b[0m\u001b[0;34m\u001b[0m\u001b[0;34m\u001b[0m\u001b[0m\n",
      "\u001b[0;32m<ipython-input-4-44a9fe8a6ba0>\u001b[0m in \u001b[0;36m<listcomp>\u001b[0;34m(.0)\u001b[0m\n\u001b[1;32m     10\u001b[0m \u001b[0;34m\u001b[0m\u001b[0m\n\u001b[1;32m     11\u001b[0m \u001b[0;31m# Create a list of dice for letters\u001b[0m\u001b[0;34m\u001b[0m\u001b[0;34m\u001b[0m\u001b[0;34m\u001b[0m\u001b[0m\n\u001b[0;32m---> 12\u001b[0;31m \u001b[0mletter_dice\u001b[0m \u001b[0;34m=\u001b[0m \u001b[0;34m[\u001b[0m\u001b[0mDie\u001b[0m\u001b[0;34m(\u001b[0m\u001b[0;34m[\u001b[0m\u001b[0mletter\u001b[0m\u001b[0;34m]\u001b[0m\u001b[0;34m,\u001b[0m \u001b[0;34m[\u001b[0m\u001b[0mweight\u001b[0m\u001b[0;34m]\u001b[0m\u001b[0;34m)\u001b[0m \u001b[0;32mfor\u001b[0m \u001b[0mletter\u001b[0m\u001b[0;34m,\u001b[0m \u001b[0mweight\u001b[0m \u001b[0;32min\u001b[0m \u001b[0mletter_weights\u001b[0m\u001b[0;34m.\u001b[0m\u001b[0mitems\u001b[0m\u001b[0;34m(\u001b[0m\u001b[0;34m)\u001b[0m\u001b[0;34m]\u001b[0m\u001b[0;34m\u001b[0m\u001b[0;34m\u001b[0m\u001b[0m\n\u001b[0m\u001b[1;32m     13\u001b[0m \u001b[0;34m\u001b[0m\u001b[0m\n\u001b[1;32m     14\u001b[0m \u001b[0;31m# Create a game with 5 letter dice\u001b[0m\u001b[0;34m\u001b[0m\u001b[0;34m\u001b[0m\u001b[0;34m\u001b[0m\u001b[0m\n",
      "\u001b[0;31mNameError\u001b[0m: name 'Die' is not defined"
     ]
    }
   ],
   "source": [
    "# Define letter weights (provide actual weights based on frequency)\n",
    "letter_weights = {\n",
    "    \"a\": 0.08167, \"b\": 0.01492, \"c\": 0.02782, \"d\": 0.04253, \"e\": 0.12702,\n",
    "    \"f\": 0.02228, \"g\": 0.02015, \"h\": 0.06094, \"i\": 0.06966, \"j\": 0.00153,\n",
    "    \"k\": 0.00772, \"l\": 0.04025, \"m\": 0.02406, \"n\": 0.06749, \"o\": 0.07507,\n",
    "    \"p\": 0.01929, \"q\": 0.00095, \"r\": 0.05987, \"s\": 0.06327, \"t\": 0.09056,\n",
    "    \"u\": 0.02758, \"v\": 0.00978, \"w\": 0.02361, \"x\": 0.00150, \"y\": 0.01974,\n",
    "    \"z\": 0.00074\n",
    "}\n",
    "\n",
    "# Create a list of dice for letters\n",
    "letter_dice = [Die([letter], [weight]) for letter, weight in letter_weights.items()]\n",
    "\n",
    "# Create a game with 5 letter dice\n",
    "game = Game(letter_dice * 5)\n",
    "\n",
    "# Play the game\n",
    "game.play(1000)\n",
    "\n",
    "# Analyze the game\n",
    "analyzer = Analyzer(game)\n",
    "relative_freq_english_words = analyzer.analyze_english_word_combos()\n",
    "\n",
    "# Print results\n",
    "print(f\"Total Rolls: {len(game.results)}\")\n",
    "print(f\"Relative Frequency of English Word Combos: {relative_freq_english_words:.4f}\")\n",
    "\n",
    "# Visualize results\n",
    "data = {\"Results\": [1 - relative_freq_english_words, relative_freq_english_words]}\n",
    "df = pd.DataFrame(data, index=[\"Non-English Words\", \"English Words\"])\n",
    "ax = df.plot(kind=\"bar\")\n",
    "ax.set_ylabel(\"Relative Frequency\")\n",
    "plt.show()"
   ]
  },
  {
   "cell_type": "code",
   "execution_count": null,
   "metadata": {},
   "outputs": [],
   "source": []
  }
 ],
 "metadata": {
  "kernelspec": {
   "display_name": "Python 3",
   "language": "python",
   "name": "python3"
  },
  "language_info": {
   "codemirror_mode": {
    "name": "ipython",
    "version": 3
   },
   "file_extension": ".py",
   "mimetype": "text/x-python",
   "name": "python",
   "nbconvert_exporter": "python",
   "pygments_lexer": "ipython3",
   "version": "3.8.8"
  }
 },
 "nbformat": 4,
 "nbformat_minor": 4
}
