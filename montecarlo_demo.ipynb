{
 "cells": [
  {
   "cell_type": "code",
   "execution_count": 3,
   "metadata": {},
   "outputs": [],
   "source": [
    "import matplotlib.pyplot as plt\n",
    "import pandas as pd\n",
    "from montecarlo.montecarlo import Die, Game, Analyzer"
   ]
  },
  {
   "cell_type": "markdown",
   "metadata": {},
   "source": [
    "## Scenario #1 Two-headed coin"
   ]
  },
  {
   "cell_type": "code",
   "execution_count": 7,
   "metadata": {},
   "outputs": [
    {
     "ename": "TypeError",
     "evalue": "Game.__init__() got an unexpected keyword argument 'dice'",
     "output_type": "error",
     "traceback": [
      "\u001b[1;31m---------------------------------------------------------------------------\u001b[0m",
      "\u001b[1;31mTypeError\u001b[0m                                 Traceback (most recent call last)",
      "Cell \u001b[1;32mIn[7], line 7\u001b[0m\n\u001b[0;32m      5\u001b[0m \u001b[39m# Play a game involving 5 dice with 1000 rolls\u001b[39;00m\n\u001b[0;32m      6\u001b[0m dice_list \u001b[39m=\u001b[39m [letter_die] \u001b[39m*\u001b[39m \u001b[39m5\u001b[39m\n\u001b[1;32m----> 7\u001b[0m game \u001b[39m=\u001b[39m Game(dice\u001b[39m=\u001b[39;49mdice_list, num_rolls\u001b[39m=\u001b[39;49m\u001b[39m1000\u001b[39;49m)\n\u001b[0;32m      8\u001b[0m analyzer \u001b[39m=\u001b[39m Analyzer(game)\n\u001b[0;32m      9\u001b[0m english_word_combos \u001b[39m=\u001b[39m analyzer\u001b[39m.\u001b[39mcompute_english_word_combos()\n",
      "\u001b[1;31mTypeError\u001b[0m: Game.__init__() got an unexpected keyword argument 'dice'"
     ]
    }
   ],
   "source": [
    "# Create a \"die\" of letters from a to z\n",
    "letters = ['a', 'b', 'c', ...]  # List of letters in order\n",
    "letter_die = Die(letters)\n",
    "\n",
    "# Play a game involving 5 dice with 1000 rolls\n",
    "dice_list = [letter_die] * 5\n",
    "game = Game(dice=dice_list, num_rolls=1000)\n",
    "analyzer = Analyzer(game)\n",
    "english_word_combos = analyzer.compute_english_word_combos()\n",
    "\n",
    "# Calculate relative frequency of English word combos\n",
    "english_word_frequency = len(english_word_combos) / game.num_rolls\n",
    "non_english_word_frequency = 1 - english_word_frequency\n",
    "\n",
    "# Create a bar chart to compare relative frequencies\n",
    "labels = ['English Word Combos', 'Non-English Word Combos']\n",
    "frequencies = [english_word_frequency, non_english_word_frequency]\n"
   ]
  },
  {
   "cell_type": "markdown",
   "metadata": {},
   "source": [
    "## Scenario #2: 6-sided die"
   ]
  },
  {
   "cell_type": "code",
   "execution_count": 16,
   "metadata": {},
   "outputs": [
    {
     "ename": "TypeError",
     "evalue": "'Game' object is not iterable",
     "output_type": "error",
     "traceback": [
      "\u001b[1;31m---------------------------------------------------------------------------\u001b[0m",
      "\u001b[1;31mTypeError\u001b[0m                                 Traceback (most recent call last)",
      "Cell \u001b[1;32mIn[16], line 8\u001b[0m\n\u001b[0;32m      6\u001b[0m fair_game \u001b[39m=\u001b[39m Game(fair_die)\n\u001b[0;32m      7\u001b[0m fair_analyzer \u001b[39m=\u001b[39m Analyzer(fair_game)\n\u001b[1;32m----> 8\u001b[0m fair_jackpot_frequency \u001b[39m=\u001b[39m fair_analyzer\u001b[39m.\u001b[39;49mcompute_jackpot(\u001b[39m5\u001b[39;49m)\n\u001b[0;32m     10\u001b[0m \u001b[39m# Play a game of 10000 rolls with 2 unfair dice of type 1, 1 unfair die of type 2, and the rest fair dice\u001b[39;00m\n\u001b[0;32m     11\u001b[0m dice_list \u001b[39m=\u001b[39m [unfair_die_type1, unfair_die_type1, fair_die, fair_die, fair_die, unfair_die_type2]\n",
      "File \u001b[1;32mc:\\Users\\brittnyh\\OneDrive\\Desktop\\SPRING 2023\\DS5100\\final_project\\montecarlo\\montecarlo.py:165\u001b[0m, in \u001b[0;36mAnalyzer.compute_jackpot\u001b[1;34m(self, times)\u001b[0m\n\u001b[0;32m    159\u001b[0m \u001b[39m\u001b[39m\u001b[39m'''\u001b[39;00m\n\u001b[0;32m    160\u001b[0m \u001b[39mPURPOSE: This method computes how many times the game resulted in all faces being identical. \u001b[39;00m\n\u001b[0;32m    161\u001b[0m \u001b[39mINPUT: None.\u001b[39;00m\n\u001b[0;32m    162\u001b[0m \u001b[39mOUTPUT: Integer for the number times to the user. \u001b[39;00m\n\u001b[0;32m    163\u001b[0m \u001b[39m'''\u001b[39;00m\n\u001b[0;32m    164\u001b[0m jackpot_count \u001b[39m=\u001b[39m \u001b[39m0\u001b[39m\n\u001b[1;32m--> 165\u001b[0m \u001b[39mfor\u001b[39;00m game \u001b[39min\u001b[39;00m \u001b[39mself\u001b[39m\u001b[39m.\u001b[39mgames:\n\u001b[0;32m    166\u001b[0m     df \u001b[39m=\u001b[39m game\u001b[39m.\u001b[39mplay(times)\n\u001b[0;32m    167\u001b[0m     combo_df \u001b[39m=\u001b[39m df[\u001b[39m'\u001b[39m\u001b[39mface_rolled\u001b[39m\u001b[39m'\u001b[39m]\u001b[39m.\u001b[39mvalue_counts()\n",
      "\u001b[1;31mTypeError\u001b[0m: 'Game' object is not iterable"
     ]
    }
   ],
   "source": [
    "# Create fair and unfair dice\n",
    "fair_die = Die([1, 2, 3, 4, 5, 6])\n",
    "unfair_die_type1 = Die([1, 2, 3, 4, 5, 6])\n",
    "unfair_die_type2 = Die([1, 2, 3, 4, 5, 6])\n",
    "\n",
    "fair_game = Game(fair_die)\n",
    "fair_analyzer = Analyzer(fair_game)\n",
    "fair_jackpot_frequency = fair_analyzer.compute_jackpot(5)\n",
    "\n",
    "# Play a game of 10000 rolls with 2 unfair dice of type 1, 1 unfair die of type 2, and the rest fair dice\n",
    "dice_list = [unfair_die_type1, unfair_die_type1, fair_die, fair_die, fair_die, unfair_die_type2]\n",
    "combined_game = Game(dice_list)\n",
    "combined_analyzer = Analyzer(combined_game)\n",
    "combined_jackpot_frequency = combined_analyzer.compute_jackpot(10000)\n",
    "\n",
    "# Create a bar chart to compare relative frequencies\n",
    "labels = ['Fair Dice', 'Unfair Dice']\n",
    "frequencies = [fair_jackpot_frequency, unfair_jackpot_frequency]\n"
   ]
  },
  {
   "cell_type": "markdown",
   "metadata": {},
   "source": [
    "## Scenario 3: Combo of letters to form words"
   ]
  },
  {
   "cell_type": "code",
   "execution_count": 22,
   "metadata": {},
   "outputs": [
    {
     "ename": "TypeError",
     "evalue": "Die.__init__() takes 2 positional arguments but 3 were given",
     "output_type": "error",
     "traceback": [
      "\u001b[1;31m---------------------------------------------------------------------------\u001b[0m",
      "\u001b[1;31mTypeError\u001b[0m                                 Traceback (most recent call last)",
      "Cell \u001b[1;32mIn[22], line 8\u001b[0m\n\u001b[0;32m      2\u001b[0m letters \u001b[39m=\u001b[39m [\u001b[39m'\u001b[39m\u001b[39ma\u001b[39m\u001b[39m'\u001b[39m, \u001b[39m'\u001b[39m\u001b[39mb\u001b[39m\u001b[39m'\u001b[39m, \u001b[39m'\u001b[39m\u001b[39mc\u001b[39m\u001b[39m'\u001b[39m, \u001b[39m'\u001b[39m\u001b[39md\u001b[39m\u001b[39m'\u001b[39m, \u001b[39m'\u001b[39m\u001b[39me\u001b[39m\u001b[39m'\u001b[39m, \u001b[39m'\u001b[39m\u001b[39mf\u001b[39m\u001b[39m'\u001b[39m, \u001b[39m'\u001b[39m\u001b[39mg\u001b[39m\u001b[39m'\u001b[39m, \u001b[39m'\u001b[39m\u001b[39mh\u001b[39m\u001b[39m'\u001b[39m, \u001b[39m'\u001b[39m\u001b[39mi\u001b[39m\u001b[39m'\u001b[39m, \u001b[39m'\u001b[39m\u001b[39mj\u001b[39m\u001b[39m'\u001b[39m, \u001b[39m'\u001b[39m\u001b[39mk\u001b[39m\u001b[39m'\u001b[39m, \u001b[39m'\u001b[39m\u001b[39ml\u001b[39m\u001b[39m'\u001b[39m, \u001b[39m'\u001b[39m\u001b[39mm\u001b[39m\u001b[39m'\u001b[39m,\n\u001b[0;32m      3\u001b[0m            \u001b[39m'\u001b[39m\u001b[39mn\u001b[39m\u001b[39m'\u001b[39m, \u001b[39m'\u001b[39m\u001b[39mo\u001b[39m\u001b[39m'\u001b[39m, \u001b[39m'\u001b[39m\u001b[39mp\u001b[39m\u001b[39m'\u001b[39m, \u001b[39m'\u001b[39m\u001b[39mq\u001b[39m\u001b[39m'\u001b[39m, \u001b[39m'\u001b[39m\u001b[39mr\u001b[39m\u001b[39m'\u001b[39m, \u001b[39m'\u001b[39m\u001b[39ms\u001b[39m\u001b[39m'\u001b[39m, \u001b[39m'\u001b[39m\u001b[39mt\u001b[39m\u001b[39m'\u001b[39m, \u001b[39m'\u001b[39m\u001b[39mu\u001b[39m\u001b[39m'\u001b[39m, \u001b[39m'\u001b[39m\u001b[39mv\u001b[39m\u001b[39m'\u001b[39m, \u001b[39m'\u001b[39m\u001b[39mw\u001b[39m\u001b[39m'\u001b[39m, \u001b[39m'\u001b[39m\u001b[39mx\u001b[39m\u001b[39m'\u001b[39m, \u001b[39m'\u001b[39m\u001b[39my\u001b[39m\u001b[39m'\u001b[39m, \u001b[39m'\u001b[39m\u001b[39mz\u001b[39m\u001b[39m'\u001b[39m]\n\u001b[0;32m      5\u001b[0m weights \u001b[39m=\u001b[39m [\u001b[39m10\u001b[39m, \u001b[39m5\u001b[39m, \u001b[39m7\u001b[39m, \u001b[39m8\u001b[39m, \u001b[39m15\u001b[39m, \u001b[39m6\u001b[39m, \u001b[39m6\u001b[39m, \u001b[39m9\u001b[39m, \u001b[39m10\u001b[39m, \u001b[39m2\u001b[39m, \u001b[39m3\u001b[39m, \u001b[39m8\u001b[39m, \u001b[39m6\u001b[39m, \u001b[39m10\u001b[39m, \u001b[39m11\u001b[39m, \u001b[39m5\u001b[39m, \u001b[39m2\u001b[39m, \u001b[39m9\u001b[39m, \u001b[39m9\u001b[39m, \u001b[39m13\u001b[39m,\n\u001b[0;32m      6\u001b[0m            \u001b[39m8\u001b[39m, \u001b[39m3\u001b[39m, \u001b[39m7\u001b[39m, \u001b[39m2\u001b[39m, \u001b[39m8\u001b[39m, \u001b[39m1\u001b[39m]\n\u001b[1;32m----> 8\u001b[0m letter_die \u001b[39m=\u001b[39m Die(letters, weights)\n\u001b[0;32m     10\u001b[0m letters \u001b[39m=\u001b[39m [\u001b[39m'\u001b[39m\u001b[39ma\u001b[39m\u001b[39m'\u001b[39m, \u001b[39m'\u001b[39m\u001b[39mb\u001b[39m\u001b[39m'\u001b[39m, \u001b[39m'\u001b[39m\u001b[39mc\u001b[39m\u001b[39m'\u001b[39m, \u001b[39m.\u001b[39m\u001b[39m.\u001b[39m\u001b[39m.\u001b[39m]  \u001b[39m# List of letters in order\u001b[39;00m\n\u001b[0;32m     11\u001b[0m weights \u001b[39m=\u001b[39m [weight_a, weight_b, weight_c, \u001b[39m.\u001b[39m\u001b[39m.\u001b[39m\u001b[39m.\u001b[39m]  \u001b[39m# Weights based on frequency\u001b[39;00m\n",
      "\u001b[1;31mTypeError\u001b[0m: Die.__init__() takes 2 positional arguments but 3 were given"
     ]
    }
   ],
   "source": [
    "# Create a \"die\" of letters with weights based on frequency\n",
    "letters = ['a', 'b', 'c', 'd', 'e', 'f', 'g', 'h', 'i', 'j', 'k', 'l', 'm',\n",
    "           'n', 'o', 'p', 'q', 'r', 's', 't', 'u', 'v', 'w', 'x', 'y', 'z']\n",
    "\n",
    "weights = [10, 5, 7, 8, 15, 6, 6, 9, 10, 2, 3, 8, 6, 10, 11, 5, 2, 9, 9, 13,\n",
    "           8, 3, 7, 2, 8, 1]\n",
    "\n",
    "letter_die = Die(letters, weights)\n",
    "\n",
    "letters = ['a', 'b', 'c', ...]  # List of letters in order\n",
    "weights = [weight_a, weight_b, weight_c, ...]  # Weights based on frequency\n",
    "letter_die = Die(letters, weights=weights)\n",
    "\n",
    "# Play a game involving 5 dice with 1000 rolls\n",
    "dice_list = [letter_die] * 5\n",
    "game = Game(dice=dice_list, num_rolls=1000)\n",
    "analyzer = Analyzer(game)\n",
    "english_word_combos = analyzer.compute_english_word_combos()\n",
    "\n",
    "# Calculate relative frequency of English word combos\n",
    "english_word_frequency = len(english_word_combos) / game.num_rolls\n",
    "non_english_word_frequency = 1 - english_word_frequency\n",
    "\n",
    "# Create a bar chart to compare relative frequencies\n",
    "labels = ['English Word Combos', 'Non-English Word Combos']\n",
    "frequencies = [english_word_frequency, non_english_word_frequency]\n"
   ]
  },
  {
   "cell_type": "code",
   "execution_count": null,
   "metadata": {},
   "outputs": [],
   "source": []
  }
 ],
 "metadata": {
  "kernelspec": {
   "display_name": "Python 3",
   "language": "python",
   "name": "python3"
  },
  "language_info": {
   "codemirror_mode": {
    "name": "ipython",
    "version": 3
   },
   "file_extension": ".py",
   "mimetype": "text/x-python",
   "name": "python",
   "nbconvert_exporter": "python",
   "pygments_lexer": "ipython3",
   "version": "3.11.4"
  }
 },
 "nbformat": 4,
 "nbformat_minor": 4
}
