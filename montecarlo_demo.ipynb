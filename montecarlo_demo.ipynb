{
 "cells": [
  {
   "cell_type": "code",
   "execution_count": 42,
   "metadata": {},
   "outputs": [],
   "source": [
    "import matplotlib.pyplot as plt\n",
    "import pandas as pd\n",
    "from montecarlo.montecarlo import Die, Game, Analyzer"
   ]
  },
  {
   "cell_type": "markdown",
   "metadata": {},
   "source": [
    "## Scenario #1 Two-headed coin"
   ]
  },
  {
   "cell_type": "code",
   "execution_count": 44,
   "metadata": {},
   "outputs": [
    {
     "name": "stdout",
     "output_type": "stream",
     "text": [
      "Relative Frequency of Jackpots in Fair Game: 0.0\n",
      "Relative Frequency of Jackpots in Unfair Game: 0.0\n"
     ]
    }
   ],
   "source": [
    "# Create a fair coin\n",
    "fair_coin = Die(['H', 'T'])\n",
    "\n",
    "# Create an unfair coin\n",
    "unfair_coin = Die(['H', 'T'])\n",
    "unfair_coin.change_weight('H', 5)\n",
    "\n",
    "# Play a game of 1000 flips with all fair dice\n",
    "fair_game = Game([fair_coin])\n",
    "fair_analyzer = Analyzer([fair_game])\n",
    "fair_jackpot_frequency = fair_analyzer.compute_jackpot(1000) / 1000\n",
    "\n",
    "# Play a game of 1000 flips with two unfair dice and one fair die\n",
    "unfair_game = Game([unfair_coin, unfair_coin, fair_coin])\n",
    "unfair_analyzer = Analyzer([unfair_game])\n",
    "unfair_jackpot_frequency = unfair_analyzer.compute_jackpot(1000) / 1000\n",
    "\n",
    "# Display results\n",
    "print(\"Relative Frequency of Jackpots in Fair Game:\", fair_jackpot_frequency)\n",
    "print(\"Relative Frequency of Jackpots in Unfair Game:\", unfair_jackpot_frequency)"
   ]
  },
  {
   "cell_type": "markdown",
   "metadata": {},
   "source": [
    "## Scenario #2: 6-sided die"
   ]
  },
  {
   "cell_type": "code",
   "execution_count": 38,
   "metadata": {},
   "outputs": [
    {
     "data": {
      "image/png": "[encoded data removed]",
      "text/plain": [
       "<Figure size 640x480 with 1 Axes>"
      ]
     },
     "metadata": {},
     "output_type": "display_data"
    },
    {
     "ename": "ValueError",
     "evalue": "cannot insert 0, already exists",
     "output_type": "error",
     "traceback": [
      "\u001b[1;31m---------------------------------------------------------------------------\u001b[0m",
      "\u001b[1;31mValueError\u001b[0m                                Traceback (most recent call last)",
      "Cell \u001b[1;32mIn[38], line 31\u001b[0m\n\u001b[0;32m     28\u001b[0m plt\u001b[39m.\u001b[39mshow()\n\u001b[0;32m     30\u001b[0m \u001b[39m# Compute 10 most frequent combinations of faces for each game and plot as bar charts\u001b[39;00m\n\u001b[1;32m---> 31\u001b[0m fair_combos \u001b[39m=\u001b[39m fair_jackpot_analyzer\u001b[39m.\u001b[39;49mcompute_combo(\u001b[39m10000\u001b[39;49m)\n\u001b[0;32m     32\u001b[0m unfair_combos \u001b[39m=\u001b[39m unfair_jackpot_analyzer\u001b[39m.\u001b[39mcompute_combo(\u001b[39m10000\u001b[39m)\n\u001b[0;32m     34\u001b[0m \u001b[39mfor\u001b[39;00m combo_df \u001b[39min\u001b[39;00m fair_combos:\n",
      "File \u001b[1;32mc:\\Users\\brittnyh\\OneDrive\\Desktop\\SPRING 2023\\DS5100\\final_project\\montecarlo\\montecarlo.py:153\u001b[0m, in \u001b[0;36mcompute_combo\u001b[1;34m(self, times)\u001b[0m\n\u001b[0;32m    151\u001b[0m for game in self.games:\n\u001b[0;32m    152\u001b[0m     df = game.play(times)\n\u001b[1;32m--> 153\u001b[0m     combo_df = df['face_rolled'].value_counts().reset_index()\n\u001b[0;32m    154\u001b[0m     combo_df.columns = ['face_rolled', 'count']\n\u001b[0;32m    155\u001b[0m     combo_data.append(combo_df)\n",
      "File \u001b[1;32mc:\\Users\\brittnyh\\AppData\\Local\\Programs\\Python\\Python311\\Lib\\site-packages\\pandas\\util\\_decorators.py:331\u001b[0m, in \u001b[0;36mdeprecate_nonkeyword_arguments.<locals>.decorate.<locals>.wrapper\u001b[1;34m(*args, **kwargs)\u001b[0m\n\u001b[0;32m    325\u001b[0m \u001b[39mif\u001b[39;00m \u001b[39mlen\u001b[39m(args) \u001b[39m>\u001b[39m num_allow_args:\n\u001b[0;32m    326\u001b[0m     warnings\u001b[39m.\u001b[39mwarn(\n\u001b[0;32m    327\u001b[0m         msg\u001b[39m.\u001b[39mformat(arguments\u001b[39m=\u001b[39m_format_argument_list(allow_args)),\n\u001b[0;32m    328\u001b[0m         \u001b[39mFutureWarning\u001b[39;00m,\n\u001b[0;32m    329\u001b[0m         stacklevel\u001b[39m=\u001b[39mfind_stack_level(),\n\u001b[0;32m    330\u001b[0m     )\n\u001b[1;32m--> 331\u001b[0m \u001b[39mreturn\u001b[39;00m func(\u001b[39m*\u001b[39;49margs, \u001b[39m*\u001b[39;49m\u001b[39m*\u001b[39;49mkwargs)\n",
      "File \u001b[1;32mc:\\Users\\brittnyh\\AppData\\Local\\Programs\\Python\\Python311\\Lib\\site-packages\\pandas\\core\\series.py:1581\u001b[0m, in \u001b[0;36mSeries.reset_index\u001b[1;34m(self, level, drop, name, inplace, allow_duplicates)\u001b[0m\n\u001b[0;32m   1578\u001b[0m             name \u001b[39m=\u001b[39m \u001b[39mself\u001b[39m\u001b[39m.\u001b[39mname\n\u001b[0;32m   1580\u001b[0m     df \u001b[39m=\u001b[39m \u001b[39mself\u001b[39m\u001b[39m.\u001b[39mto_frame(name)\n\u001b[1;32m-> 1581\u001b[0m     \u001b[39mreturn\u001b[39;00m df\u001b[39m.\u001b[39;49mreset_index(\n\u001b[0;32m   1582\u001b[0m         level\u001b[39m=\u001b[39;49mlevel, drop\u001b[39m=\u001b[39;49mdrop, allow_duplicates\u001b[39m=\u001b[39;49mallow_duplicates\n\u001b[0;32m   1583\u001b[0m     )\n\u001b[0;32m   1584\u001b[0m \u001b[39mreturn\u001b[39;00m \u001b[39mNone\u001b[39;00m\n",
      "File \u001b[1;32mc:\\Users\\brittnyh\\AppData\\Local\\Programs\\Python\\Python311\\Lib\\site-packages\\pandas\\util\\_decorators.py:331\u001b[0m, in \u001b[0;36mdeprecate_nonkeyword_arguments.<locals>.decorate.<locals>.wrapper\u001b[1;34m(*args, **kwargs)\u001b[0m\n\u001b[0;32m    325\u001b[0m \u001b[39mif\u001b[39;00m \u001b[39mlen\u001b[39m(args) \u001b[39m>\u001b[39m num_allow_args:\n\u001b[0;32m    326\u001b[0m     warnings\u001b[39m.\u001b[39mwarn(\n\u001b[0;32m    327\u001b[0m         msg\u001b[39m.\u001b[39mformat(arguments\u001b[39m=\u001b[39m_format_argument_list(allow_args)),\n\u001b[0;32m    328\u001b[0m         \u001b[39mFutureWarning\u001b[39;00m,\n\u001b[0;32m    329\u001b[0m         stacklevel\u001b[39m=\u001b[39mfind_stack_level(),\n\u001b[0;32m    330\u001b[0m     )\n\u001b[1;32m--> 331\u001b[0m \u001b[39mreturn\u001b[39;00m func(\u001b[39m*\u001b[39;49margs, \u001b[39m*\u001b[39;49m\u001b[39m*\u001b[39;49mkwargs)\n",
      "File \u001b[1;32mc:\\Users\\brittnyh\\AppData\\Local\\Programs\\Python\\Python311\\Lib\\site-packages\\pandas\\core\\frame.py:6361\u001b[0m, in \u001b[0;36mDataFrame.reset_index\u001b[1;34m(self, level, drop, inplace, col_level, col_fill, allow_duplicates, names)\u001b[0m\n\u001b[0;32m   6355\u001b[0m         \u001b[39mif\u001b[39;00m lab \u001b[39mis\u001b[39;00m \u001b[39mnot\u001b[39;00m \u001b[39mNone\u001b[39;00m:\n\u001b[0;32m   6356\u001b[0m             \u001b[39m# if we have the codes, extract the values with a mask\u001b[39;00m\n\u001b[0;32m   6357\u001b[0m             level_values \u001b[39m=\u001b[39m algorithms\u001b[39m.\u001b[39mtake(\n\u001b[0;32m   6358\u001b[0m                 level_values, lab, allow_fill\u001b[39m=\u001b[39m\u001b[39mTrue\u001b[39;00m, fill_value\u001b[39m=\u001b[39mlev\u001b[39m.\u001b[39m_na_value\n\u001b[0;32m   6359\u001b[0m             )\n\u001b[1;32m-> 6361\u001b[0m         new_obj\u001b[39m.\u001b[39;49minsert(\n\u001b[0;32m   6362\u001b[0m             \u001b[39m0\u001b[39;49m,\n\u001b[0;32m   6363\u001b[0m             name,\n\u001b[0;32m   6364\u001b[0m             level_values,\n\u001b[0;32m   6365\u001b[0m             allow_duplicates\u001b[39m=\u001b[39;49mallow_duplicates,\n\u001b[0;32m   6366\u001b[0m         )\n\u001b[0;32m   6368\u001b[0m new_obj\u001b[39m.\u001b[39mindex \u001b[39m=\u001b[39m new_index\n\u001b[0;32m   6369\u001b[0m \u001b[39mif\u001b[39;00m \u001b[39mnot\u001b[39;00m inplace:\n",
      "File \u001b[1;32mc:\\Users\\brittnyh\\AppData\\Local\\Programs\\Python\\Python311\\Lib\\site-packages\\pandas\\core\\frame.py:4817\u001b[0m, in \u001b[0;36mDataFrame.insert\u001b[1;34m(self, loc, column, value, allow_duplicates)\u001b[0m\n\u001b[0;32m   4811\u001b[0m     \u001b[39mraise\u001b[39;00m \u001b[39mValueError\u001b[39;00m(\n\u001b[0;32m   4812\u001b[0m         \u001b[39m\"\u001b[39m\u001b[39mCannot specify \u001b[39m\u001b[39m'\u001b[39m\u001b[39mallow_duplicates=True\u001b[39m\u001b[39m'\u001b[39m\u001b[39m when \u001b[39m\u001b[39m\"\u001b[39m\n\u001b[0;32m   4813\u001b[0m         \u001b[39m\"\u001b[39m\u001b[39m'\u001b[39m\u001b[39mself.flags.allows_duplicate_labels\u001b[39m\u001b[39m'\u001b[39m\u001b[39m is False.\u001b[39m\u001b[39m\"\u001b[39m\n\u001b[0;32m   4814\u001b[0m     )\n\u001b[0;32m   4815\u001b[0m \u001b[39mif\u001b[39;00m \u001b[39mnot\u001b[39;00m allow_duplicates \u001b[39mand\u001b[39;00m column \u001b[39min\u001b[39;00m \u001b[39mself\u001b[39m\u001b[39m.\u001b[39mcolumns:\n\u001b[0;32m   4816\u001b[0m     \u001b[39m# Should this be a different kind of error??\u001b[39;00m\n\u001b[1;32m-> 4817\u001b[0m     \u001b[39mraise\u001b[39;00m \u001b[39mValueError\u001b[39;00m(\u001b[39mf\u001b[39m\u001b[39m\"\u001b[39m\u001b[39mcannot insert \u001b[39m\u001b[39m{\u001b[39;00mcolumn\u001b[39m}\u001b[39;00m\u001b[39m, already exists\u001b[39m\u001b[39m\"\u001b[39m)\n\u001b[0;32m   4818\u001b[0m \u001b[39mif\u001b[39;00m \u001b[39mnot\u001b[39;00m \u001b[39misinstance\u001b[39m(loc, \u001b[39mint\u001b[39m):\n\u001b[0;32m   4819\u001b[0m     \u001b[39mraise\u001b[39;00m \u001b[39mTypeError\u001b[39;00m(\u001b[39m\"\u001b[39m\u001b[39mloc must be int\u001b[39m\u001b[39m\"\u001b[39m)\n",
      "\u001b[1;31mValueError\u001b[0m: cannot insert 0, already exists"
     ]
    }
   ],
   "source": [
    "# Create fair die\n",
    "fair_die = Die([1, 2, 3, 4, 5, 6])\n",
    "\n",
    "# Create unfair dice\n",
    "unfair_die_type1 = Die([1, 2, 3, 4, 5, 6])\n",
    "unfair_die_type1.change_weight(6, 5)\n",
    "\n",
    "unfair_die_type2 = Die([1, 2, 3, 4, 5, 6])\n",
    "unfair_die_type2.change_weight(1, 5)\n",
    "\n",
    "# Create a game with 5 fair dice for 10000 rolls\n",
    "fair_game = Game([fair_die] * 5)\n",
    "fair_jackpot_analyzer = Analyzer([fair_game])\n",
    "fair_jackpot_frequency = fair_jackpot_analyzer.compute_jackpot(10000) / 10000\n",
    "\n",
    "# Create a game with 2 unfair dice of type 1, 1 unfair die of type 2, and 2 fair dice for 10000 rolls\n",
    "unfair_game = Game([unfair_die_type1, unfair_die_type1, unfair_die_type2, fair_die, fair_die])\n",
    "unfair_jackpot_analyzer = Analyzer([unfair_game])\n",
    "unfair_jackpot_frequency = unfair_jackpot_analyzer.compute_jackpot(10000) / 10000\n",
    "\n",
    "# Display results\n",
    "games = ['Fair Game', 'Unfair Game']\n",
    "jackpot_frequencies = [fair_jackpot_frequency, unfair_jackpot_frequency]\n",
    "\n",
    "plt.bar(games, jackpot_frequencies)\n",
    "plt.ylabel('Relative Frequency of Jackpots')\n",
    "plt.title('Relative Frequency of Jackpots in Different Games')\n",
    "plt.show()\n",
    "\n",
    "# Compute 10 most frequent combinations of faces for each game and plot as bar charts\n",
    "fair_combos = fair_jackpot_analyzer.compute_combo(10000)\n",
    "unfair_combos = unfair_jackpot_analyzer.compute_combo(10000)\n",
    "\n",
    "for combo_df in fair_combos:\n",
    "    combo_df[:10].plot(kind='bar', x='face_rolled', y='count', title='Fair Dice Combo')\n",
    "\n",
    "for combo_df in unfair_combos:\n",
    "    combo_df[:10].plot(kind='bar', x='face_rolled', y='count', title='Unfair Dice Combo')"
   ]
  },
  {
   "cell_type": "markdown",
   "metadata": {},
   "source": [
    "## Scenario 3: Combo of letters to form words"
   ]
  },
  {
   "cell_type": "code",
   "execution_count": 40,
   "metadata": {},
   "outputs": [
    {
     "ename": "TypeError",
     "evalue": "sequence item 0: expected str instance, int found",
     "output_type": "error",
     "traceback": [
      "\u001b[1;31m---------------------------------------------------------------------------\u001b[0m",
      "\u001b[1;31mTypeError\u001b[0m                                 Traceback (most recent call last)",
      "Cell \u001b[1;32mIn[40], line 24\u001b[0m\n\u001b[0;32m     22\u001b[0m \u001b[39mfor\u001b[39;00m _ \u001b[39min\u001b[39;00m \u001b[39mrange\u001b[39m(\u001b[39m1000\u001b[39m):\n\u001b[0;32m     23\u001b[0m     combo_df \u001b[39m=\u001b[39m letter_game\u001b[39m.\u001b[39mplay(\u001b[39m5\u001b[39m)\n\u001b[1;32m---> 24\u001b[0m     combo_str \u001b[39m=\u001b[39m \u001b[39m'\u001b[39;49m\u001b[39m'\u001b[39;49m\u001b[39m.\u001b[39;49mjoin(combo_df[\u001b[39m'\u001b[39;49m\u001b[39mface_rolled\u001b[39;49m\u001b[39m'\u001b[39;49m]\u001b[39m.\u001b[39;49mastype(\u001b[39mstr\u001b[39;49m))\n\u001b[0;32m     25\u001b[0m     total_combos \u001b[39m+\u001b[39m\u001b[39m=\u001b[39m \u001b[39m1\u001b[39m\n\u001b[0;32m     27\u001b[0m     \u001b[39m# Check if combo looks like an English word (you need a word dictionary for this)\u001b[39;00m\n",
      "\u001b[1;31mTypeError\u001b[0m: sequence item 0: expected str instance, int found"
     ]
    }
   ],
   "source": [
    "# Define letter frequencies \n",
    "letter_frequencies = {\n",
    "    'a': 0.08167, 'b': 0.01492, 'c': 0.02782, 'd': 0.04253, 'e': 0.12702,\n",
    "    'f': 0.02228, 'g': 0.02015, 'h': 0.06094, 'i': 0.06966, 'j': 0.00153,\n",
    "    'k': 0.00772, 'l': 0.04025, 'm': 0.02406, 'n': 0.06749, 'o': 0.07507,\n",
    "    'p': 0.01929, 'q': 0.00095, 'r': 0.05987, 's': 0.06327, 't': 0.09056,\n",
    "    'u': 0.02758, 'v': 0.00978, 'w': 0.02360, 'x': 0.00150, 'y': 0.01974, 'z': 0.00074\n",
    "}\n",
    "\n",
    "# Create a die of letters based on their frequencies\n",
    "letter_die = Die(list(letter_frequencies.keys()))\n",
    "for letter, freq in letter_frequencies.items():\n",
    "    letter_die.change_weight(letter, freq)\n",
    "\n",
    "# Create a game with 5 letter dice for 1000 rolls\n",
    "letter_game = Game([letter_die] * 5)\n",
    "letter_analyzer = Analyzer([letter_game])\n",
    "\n",
    "# Count how many combos look like actual English words\n",
    "english_word_combos = 0\n",
    "total_combos = 0\n",
    "for _ in range(1000):\n",
    "    combo_df = letter_game.play(5)\n",
    "    combo_str = ''.join(combo_df['face_rolled'].astype(str))\n",
    "    total_combos += 1\n",
    "    \n",
    "    # Check if combo looks like an English word (you need a word dictionary for this)\n",
    "    if is_english_word(combo_str):\n",
    "        english_word_combos += 1\n",
    "\n",
    "# Calculate relative frequency\n",
    "english_word_frequency = english_word_combos / total_combos\n",
    "non_english_word_frequency = 1 - english_word_frequency\n",
    "\n",
    "# Display results\n",
    "word_frequencies = [english_word_frequency, non_english_word_frequency]\n",
    "labels = ['English Words', 'Non-English Words']\n",
    "\n",
    "plt.bar(labels, word_frequencies)\n",
    "plt.ylabel('Relative Frequency')\n",
    "plt.title('Relative Frequency of English-Like Words')\n",
    "plt.show()"
   ]
  },
  {
   "cell_type": "code",
   "execution_count": null,
   "metadata": {},
   "outputs": [],
   "source": []
  }
 ],
 "metadata": {
  "kernelspec": {
   "display_name": "Python 3",
   "language": "python",
   "name": "python3"
  },
  "language_info": {
   "codemirror_mode": {
    "name": "ipython",
    "version": 3
   },
   "file_extension": ".py",
   "mimetype": "text/x-python",
   "name": "python",
   "nbconvert_exporter": "python",
   "pygments_lexer": "ipython3",
   "version": "3.11.4"
  }
 },
 "nbformat": 4,
 "nbformat_minor": 4
}
